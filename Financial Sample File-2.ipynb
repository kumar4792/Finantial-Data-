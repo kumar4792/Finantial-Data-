{
 "cells": [
  {
   "cell_type": "markdown",
   "id": "e502b78b",
   "metadata": {},
   "source": [
    "### Extracting Text and Tables from Pdf"
   ]
  },
  {
   "cell_type": "code",
   "execution_count": 1,
   "id": "3cff264f",
   "metadata": {},
   "outputs": [
    {
     "name": "stdout",
     "output_type": "stream",
     "text": [
      "Collecting pdfplumber\n",
      "  Downloading pdfplumber-0.6.0.tar.gz (46 kB)\n",
      "Collecting pdfminer.six==20211012\n",
      "  Downloading pdfminer.six-20211012-py3-none-any.whl (5.6 MB)\n",
      "Requirement already satisfied: Pillow>=8.4 in c:\\users\\user\\anaconda3\\lib\\site-packages (from pdfplumber) (8.4.0)\n",
      "Collecting Wand>=0.6.7\n",
      "  Downloading Wand-0.6.7-py2.py3-none-any.whl (139 kB)\n",
      "Requirement already satisfied: chardet in c:\\users\\user\\anaconda3\\lib\\site-packages (from pdfminer.six==20211012->pdfplumber) (4.0.0)\n",
      "Requirement already satisfied: cryptography in c:\\users\\user\\anaconda3\\lib\\site-packages (from pdfminer.six==20211012->pdfplumber) (3.4.8)\n",
      "Requirement already satisfied: cffi>=1.12 in c:\\users\\user\\anaconda3\\lib\\site-packages (from cryptography->pdfminer.six==20211012->pdfplumber) (1.14.6)\n",
      "Requirement already satisfied: pycparser in c:\\users\\user\\anaconda3\\lib\\site-packages (from cffi>=1.12->cryptography->pdfminer.six==20211012->pdfplumber) (2.20)\n",
      "Building wheels for collected packages: pdfplumber\n",
      "  Building wheel for pdfplumber (setup.py): started\n",
      "  Building wheel for pdfplumber (setup.py): finished with status 'done'\n",
      "  Created wheel for pdfplumber: filename=pdfplumber-0.6.0-py3-none-any.whl size=33688 sha256=935f5b472fe14b3343025c27b7ecad78b8b32604166b18dea282095a7a3fc7fb\n",
      "  Stored in directory: c:\\users\\user\\appdata\\local\\pip\\cache\\wheels\\d9\\28\\db\\b9560dc712489797249930c9252d6966e7d6c8c45fe16e909f\n",
      "Successfully built pdfplumber\n",
      "Installing collected packages: Wand, pdfminer.six, pdfplumber\n",
      "Successfully installed Wand-0.6.7 pdfminer.six-20211012 pdfplumber-0.6.0\n",
      "Note: you may need to restart the kernel to use updated packages.\n"
     ]
    }
   ],
   "source": [
    "pip install pdfplumber  # Using pdfplumber liberary"
   ]
  },
  {
   "cell_type": "code",
   "execution_count": 2,
   "id": "00e6604a",
   "metadata": {},
   "outputs": [
    {
     "name": "stdout",
     "output_type": "stream",
     "text": [
      "Requirement already satisfied: path in c:\\users\\user\\anaconda3\\lib\\site-packages (16.0.0)Note: you may need to restart the kernel to use updated packages.\n",
      "\n"
     ]
    }
   ],
   "source": [
    "pip install path"
   ]
  },
  {
   "cell_type": "code",
   "execution_count": 3,
   "id": "b64ed0f3",
   "metadata": {},
   "outputs": [
    {
     "name": "stdout",
     "output_type": "stream",
     "text": [
      "Requirement already satisfied: pathlib in c:\\users\\user\\anaconda3\\lib\\site-packages (1.0.1)\n",
      "Note: you may need to restart the kernel to use updated packages.\n"
     ]
    }
   ],
   "source": [
    "pip install pathlib   # Find the path to save the file in local"
   ]
  },
  {
   "cell_type": "code",
   "execution_count": 4,
   "id": "2cf31a40",
   "metadata": {},
   "outputs": [],
   "source": [
    "import pdfplumber"
   ]
  },
  {
   "cell_type": "code",
   "execution_count": 5,
   "id": "ba96107a",
   "metadata": {},
   "outputs": [],
   "source": [
    "from pathlib import Path"
   ]
  },
  {
   "cell_type": "code",
   "execution_count": 7,
   "id": "4005bfe0",
   "metadata": {},
   "outputs": [],
   "source": [
    "pdf = pdfplumber.open('D:/F_Apple/apple-2021.pdf') # Import the pdf file from local"
   ]
  },
  {
   "cell_type": "code",
   "execution_count": 8,
   "id": "88ff0eaa",
   "metadata": {},
   "outputs": [
    {
     "name": "stdout",
     "output_type": "stream",
     "text": [
      "Products and Services Performance\n",
      "The following table shows net sales by category for 2021, 2020 and 2019 (dollars in millions):\n",
      "2021 Change 2020 Change 2019\n",
      "Net sales by category:\n",
      "iPhone (1) $ 191,973  39  % $ 137,781  (3) % $ 142,381 \n",
      "Mac (1) 35,190  23  % 28,622  11  % 25,740 \n",
      "iPad (1) 31,862  34  % 23,724  11  % 21,280 \n",
      "Wearables, Home and Accessories (1)(2) 38,367  25  % 30,620  25  % 24,482 \n",
      "Services (3) 68,425  27  % 53,768  16  % 46,291 \n",
      "Total net sales $ 365,817  33  % $ 274,515  6  % $ 260,174 \n",
      "(1) Products net sales include amortization of the deferred value of unspecified software upgrade rights, which are bundled in the sales price of the respective\n",
      "product.\n",
      "(2) Wearables, Home and Accessories net sales include sales of AirPods, Apple TV, Apple Watch, Beats products, HomePod, iPod touch and accessories.\n",
      "(3) Services net sales include sales from the Company’s advertising, AppleCare, cloud, digital content, payment and other services. Services net sales also\n",
      "include amortization of the deferred value of services bundled in the sales price of certain products.\n",
      "iPhone\n",
      "iPhone net sales increased during 2021 compared to 2020 due primarily to higher net sales from the Company’s new iPhone models launched in the first\n",
      "quarter and fourth quarter of 2021 and a favorable mix of iPhone sales.\n",
      "Mac\n",
      "Mac net sales increased during 2021 compared to 2020 due primarily to higher net sales of MacBook Air, MacBook Pro and iMac.\n",
      "iPad\n",
      "iPad net sales increased during 2021 compared to 2020 due primarily to higher net sales of iPad Air and iPad Pro.\n",
      "Wearables, Home and Accessories\n",
      "Wearables, Home and Accessories net sales increased during 2021 compared to 2020 due primarily to higher net sales of accessories and Apple Watch.\n",
      "Services\n",
      "Services net sales increased during 2021 compared to 2020 due primarily to higher net sales from advertising, the App Store and cloud services.\n",
      "Apple Inc. | 2021 Form 10-K | 21\n"
     ]
    }
   ],
   "source": [
    "print(pdf.pages[23].extract_text()) # Extracting single page using page number"
   ]
  },
  {
   "cell_type": "code",
   "execution_count": 24,
   "id": "4b11d91c",
   "metadata": {},
   "outputs": [
    {
     "name": "stdout",
     "output_type": "stream",
     "text": [
      "[[['iPhone (1)', '$', '191,973', '', '39', '%', '', '$', '137,781', '', '(3)', '%', '', '$', '142,381'], ['Mac (1)', '35,190', None, '', '23', '%', '', '28,622', None, '', '11', '%', '', '25,740', None], ['iPad (1)', '31,862', None, '', '34', '%', '', '23,724', None, '', '11', '%', '', '21,280', None], ['Wearables, Home and Accessories (1)(2)', '38,367', None, '', '25', '%', '', '30,620', None, '', '25', '%', '', '24,482', None], ['Services (3)', '68,425', None, '', '27', '%', '', '53,768', None, '', '16', '%', '', '46,291', None], ['Total net sales', '$', '365,817', '', '33', '%', '', '$', '274,515', '', '6', '%', '', '$', '260,174']]]\n"
     ]
    }
   ],
   "source": [
    "print(pdf.pages[23].extract_tables()) # Extract only tables by using page no\n",
    "\n",
    "# In this Table was not in correct fromat so output is not oK"
   ]
  },
  {
   "cell_type": "markdown",
   "id": "efb3c145",
   "metadata": {},
   "source": [
    "### Extracting page no  ( by using some specific text from that page)  "
   ]
  },
  {
   "cell_type": "code",
   "execution_count": 11,
   "id": "33b7e710",
   "metadata": {},
   "outputs": [
    {
     "name": "stdout",
     "output_type": "stream",
     "text": [
      "<Page:32>\n"
     ]
    }
   ],
   "source": [
    "def extract_datas(pdf_file):\n",
    "  pdf = pdfplumber.open(pdf_file)\n",
    "\n",
    "\n",
    "  for page in pdf.pages:   \n",
    "    for line in page.extract_text().splitlines():\n",
    "      if \"CONSOLIDATED STATEMENTS OF OPERATIONS\" in line:  # where ever in the pdf file contain \"CONSOLIDATED STATEMENTS OF OPERATIONS\" it will print that page no: \n",
    "        print(page)                                           \n",
    "  \n",
    "\n",
    "extract_datas('D:/F_Apple/apple-2021.pdf')"
   ]
  },
  {
   "cell_type": "markdown",
   "id": "82d9ad8f",
   "metadata": {},
   "source": [
    "### Extracting text from specific  page"
   ]
  },
  {
   "cell_type": "code",
   "execution_count": 21,
   "id": "df23f3c8",
   "metadata": {},
   "outputs": [],
   "source": [
    "# The text \"CONSOLIDATED STATEMENTS OF OPERATIONS\" is present in page no:32 in 2nd line"
   ]
  },
  {
   "cell_type": "code",
   "execution_count": 12,
   "id": "bfb0b9d7",
   "metadata": {},
   "outputs": [
    {
     "name": "stdout",
     "output_type": "stream",
     "text": [
      "Apple Inc.\n",
      "CONSOLIDATED STATEMENTS OF OPERATIONS\n",
      "(In millions, except number of shares which are reflected in thousands and per share amounts)\n",
      "Years ended\n",
      "September 25,  September 26,  September 28, \n",
      "2021 2020 2019\n",
      "Net sales:\n",
      "   Products $ 297,392  $ 220,747  $ 213,883 \n",
      "   Services 68,425  53,768  46,291 \n",
      "Total net sales 365,817  274,515  260,174 \n",
      "Cost of sales:\n",
      "   Products 192,266  151,286  144,996 \n",
      "   Services 20,715  18,273  16,786 \n",
      "Total cost of sales 212,981  169,559  161,782 \n",
      "Gross margin 152,836  104,956  98,392 \n",
      "Operating expenses:\n",
      "Research and development 21,914  18,752  16,217 \n",
      "Selling, general and administrative 21,973  19,916  18,245 \n",
      "Total operating expenses 43,887  38,668  34,462 \n",
      "Operating income 108,949  66,288  63,930 \n",
      "Other income/(expense), net 258  803  1,807 \n",
      "Income before provision for income taxes 109,207  67,091  65,737 \n",
      "Provision for income taxes 14,527  9,680  10,481 \n",
      "Net income $ 94,680  $ 57,411  $ 55,256 \n",
      "Earnings per share:\n",
      "Basic $ 5.67  $ 3.31  $ 2.99 \n",
      "Diluted $ 5.61  $ 3.28  $ 2.97 \n",
      "Shares used in computing earnings per share:\n",
      "Basic 16,701,272  17,352,119  18,471,336 \n",
      "Diluted 16,864,919  17,528,214  18,595,651 \n",
      "See accompanying Notes to Consolidated Financial Statements.\n",
      "Apple Inc. | 2021 Form 10-K | 29\n"
     ]
    }
   ],
   "source": [
    "def extract_datas(pdf_file):\n",
    "  pdf = pdfplumber.open(pdf_file)\n",
    "  for page in pdf.pages:\n",
    "    for line in page.extract_text().splitlines():\n",
    "      if \"CONSOLIDATED STATEMENTS OF OPERATIONS\" in line: # Extract the whole page text by considering  \"CONSOLIDATED STATEMENTS OF OPERATIONS\"\n",
    "        print(page.extract_text()) \n",
    "  \n",
    "extract_datas('D:/F_Apple/apple-2021.pdf')"
   ]
  },
  {
   "cell_type": "code",
   "execution_count": 17,
   "id": "a2723cf6",
   "metadata": {},
   "outputs": [
    {
     "name": "stdout",
     "output_type": "stream",
     "text": [
      "<Page:22>\n"
     ]
    }
   ],
   "source": [
    "# example file from Apple-2018 report extracting (page no:  ) using text\n",
    "\n",
    "def extract_datas(pdf_file):\n",
    "  pdf = pdfplumber.open(pdf_file)\n",
    "\n",
    "\n",
    "  for page in pdf.pages:\n",
    "    for line in page.extract_text().splitlines(): \n",
    "      if \"Holders\" in line:\n",
    "        print(page)\n",
    "    \n",
    "extract_datas('D:/F_Apple/apple-2018.pdf')"
   ]
  },
  {
   "cell_type": "code",
   "execution_count": 18,
   "id": "e8832efb",
   "metadata": {},
   "outputs": [
    {
     "name": "stdout",
     "output_type": "stream",
     "text": [
      "PART II\n",
      "Item 5.  Market for Registrant’s Common Equity, Related Stockholder Matters and Issuer Purchases of Equity Securities\n",
      "The Company’s common stock is traded on The Nasdaq Stock Market LLC (“Nasdaq”) under the symbol AAPL.\n",
      "Holders\n",
      "As of October 26, 2018, there were 23,712 shareholders of record.\n",
      "Purchases of Equity Securities by the Issuer and Affiliated Purchasers\n",
      "Share repurchase activity during the three months ended September 29, 2018 was as follows (in millions, except number of shares, \n",
      "which are reflected in thousands, and per share amounts):\n",
      "Total Number \n",
      "of Shares  Approximate \n",
      "Purchased as  Dollar Value of \n",
      "Average Part of Publicly  Shares That May \n",
      "Total Number  Price Announced  Yet Be Purchased \n",
      "of Shares  Paid Per  Plans or  Under the Plans \n",
      "Periods Purchased Share Programs or Programs (1)\n",
      "July 1, 2018 to August 4, 2018:\n",
      "Open market and privately negotiated purchases 26,859 $ 192.50 26,859\n",
      "August 5, 2018 to September 1, 2018:\n",
      "Open market and privately negotiated purchases 36,575 $ 214.07 36,575\n",
      "September 2, 2018 to September 29, 2018:\n",
      "Open market and privately negotiated purchases 29,029 $ 222.07 29,029\n",
      "Total 92,463 $ 70,970\n",
      " \n",
      "(1)  On May 1, 2018, the Company announced the Board of Directors had authorized a program to repurchase up to $100 billion of \n",
      "the Company’s common stock, of which $29.0 billion had been utilized as of September 29, 2018. The remaining $71.0 billion \n",
      "in the table represents the amount available to repurchase shares under the authorized repurchase program as of September 29, \n",
      "2018. The Company’s share repurchase program does not obligate it to acquire any specific number of shares. Under this \n",
      "program, shares may be repurchased in privately negotiated and/or open market transactions, including under plans complying \n",
      "with Rule 10b5-1 under the Exchange Act.\n",
      "Apple Inc. | 2018 Form 10-K | 19\n"
     ]
    }
   ],
   "source": [
    "#example Extract the whole page text by considering  \"Holders \" it is present in line 4\n",
    "\n",
    "def extract_datas(pdf_file):\n",
    "  pdf = pdfplumber.open(pdf_file)\n",
    "\n",
    "\n",
    "  for page in pdf.pages:\n",
    "    for line in page.extract_text().splitlines(): \n",
    "      if \"Holders\" in line:\n",
    "        print(page.extract_text())\n",
    "    \n",
    "extract_datas('D:/F_Apple/apple-2018.pdf')"
   ]
  },
  {
   "cell_type": "code",
   "execution_count": 15,
   "id": "7ccafd62",
   "metadata": {},
   "outputs": [
    {
     "name": "stdout",
     "output_type": "stream",
     "text": [
      "September 25,  September 26,  September 28, \n",
      "2021 2020 2019\n",
      "Net sales:\n",
      "   Products $ 297,392  $ 220,747  $ 213,883 \n",
      "   Services 68,425  53,768  46,291 \n",
      "Total net sales 365,817  274,515  260,174 \n",
      "Cost of sales:\n",
      "   Products 192,266  151,286  144,996 \n",
      "   Services 20,715  18,273  16,786 \n",
      "Total cost of sales 212,981  169,559  161,782 \n",
      "Gross margin 152,836  104,956  98,392 \n",
      "Operating expenses:\n",
      "Research and development 21,914  18,752  16,217 \n",
      "Selling, general and administrative 21,973  19,916  18,245 \n",
      "Total operating expenses 43,887  38,668  34,462 \n",
      "Operating income 108,949  66,288  63,930 \n",
      "Other income/(expense), net 258  803  1,807 \n",
      "Income before provision for income taxes 109,207  67,091  65,737 \n",
      "Provision for income taxes 14,527  9,680  10,481 \n",
      "Net income $ 94,680  $ 57,411  $ 55,256 \n",
      "Earnings per share:\n",
      "Basic $ 5.67  $ 3.31  $ 2.99 \n",
      "Diluted $ 5.61  $ 3.28  $ 2.97 \n",
      "Shares used in computing earnings per share:\n",
      "Basic 16,701,272  17,352,119  18,471,336 \n",
      "Diluted 16,864,919  17,528,214  18,595,651 \n"
     ]
    }
   ],
   "source": [
    "# Extracting only table content fron page no = 32 in apple 2021 report\n",
    "\n",
    "def extract_datas(pdf_file):\n",
    "  pdf = pdfplumber.open(pdf_file)\n",
    "  for page in pdf.pages:\n",
    "    for line in page.extract_text().splitlines():\n",
    "      if \"CONSOLIDATED STATEMENTS OF OPERATIONS\" in line:\n",
    "        line = page.extract_text()\n",
    "        list1=(line.splitlines()[4],line.splitlines()[5],line.splitlines()[6],\n",
    "               line.splitlines()[7],line.splitlines()[8],line.splitlines()[9],\n",
    "               line.splitlines()[10],line.splitlines()[11],line.splitlines()[12],\n",
    "               line.splitlines()[13],line.splitlines()[14],line.splitlines()[15],\n",
    "               line.splitlines()[16],line.splitlines()[17],line.splitlines()[18],\n",
    "               line.splitlines()[19],line.splitlines()[20],line.splitlines()[21],\n",
    "               line.splitlines()[22],line.splitlines()[23],line.splitlines()[24],\n",
    "               line.splitlines()[25],line.splitlines()[26],line.splitlines()[27],\n",
    "               line.splitlines()[28],line.splitlines()[29])\n",
    "        Tabel = \"\\n\".join(list1)\n",
    "        print(Tabel)\n",
    "extract_datas('D:/F_Apple/apple-2021.pdf')"
   ]
  },
  {
   "cell_type": "code",
   "execution_count": null,
   "id": "ea070a7c",
   "metadata": {},
   "outputs": [],
   "source": [
    "# import the Extracted text into csv, Excel or text format to local system\n",
    "\n",
    "def extract_datas(pdf_file):\n",
    "  pdf = pdfplumber.open(pdf_file)\n",
    "  for page in pdf.pages:\n",
    "    for line in page.extract_text().splitlines():\n",
    "      if \"CONSOLIDATED STATEMENTS OF OPERATIONS\" in line:\n",
    "        line = page.extract_text()\n",
    "        list1=(line.splitlines()[4],line.splitlines()[5],line.splitlines()[6],\n",
    "               line.splitlines()[7],line.splitlines()[8],line.splitlines()[9],\n",
    "               line.splitlines()[10],line.splitlines()[11],line.splitlines()[12],\n",
    "               line.splitlines()[13],line.splitlines()[14],line.splitlines()[15],\n",
    "               line.splitlines()[16],line.splitlines()[17],line.splitlines()[18],\n",
    "               line.splitlines()[19],line.splitlines()[20],line.splitlines()[21],\n",
    "               line.splitlines()[22],line.splitlines()[23],line.splitlines()[24],\n",
    "               line.splitlines()[25],line.splitlines()[26],line.splitlines()[27],\n",
    "               line.splitlines()[28],line.splitlines()[29])\n",
    "        strin = \"\\n\".join(list1)\n",
    "        with Path ('/content/drive/MyDrive/F_Apple/apple21_7.txt').open(mode= 'w') as f:\n",
    "          f.write(strin)\n",
    "extract_datas('/content/drive/MyDrive/F_Apple/apple-2021.pdf')"
   ]
  }
 ],
 "metadata": {
  "kernelspec": {
   "display_name": "Python 3 (ipykernel)",
   "language": "python",
   "name": "python3"
  },
  "language_info": {
   "codemirror_mode": {
    "name": "ipython",
    "version": 3
   },
   "file_extension": ".py",
   "mimetype": "text/x-python",
   "name": "python",
   "nbconvert_exporter": "python",
   "pygments_lexer": "ipython3",
   "version": "3.9.7"
  }
 },
 "nbformat": 4,
 "nbformat_minor": 5
}
